{
 "cells": [
  {
   "cell_type": "markdown",
   "id": "b4269600",
   "metadata": {},
   "source": [
    "# CSCI632 Homework 2: More Linear Algebra for ML\n",
    "\n",
    "### Instructions\n",
    "This assignment is designed to cover key linear algebra concepts used throughout *Deep Learning* (Goodfellow et al., Ch. 2).\n",
    "It expands on homework 1.  It emphasizes manipulation of matrices, vector spaces, dependence/independence, and norms.\n",
    "Show all steps and justify each answer.   You do not need to use LaTeX for these answers.  \n",
    "\n",
    "\n",
    "## Deliverables\n",
    "- A jupyter notebook, scanned image, or PDF of your typed, LaTeX, or handwritten solutions.\n",
    "- For conceptual questions, write concise but clear explanations.\n",
    "- For computational problems, show all steps.\n"
   ]
  },
  {
   "cell_type": "markdown",
   "id": "6a3e614c",
   "metadata": {},
   "source": [
    "## Part A. Watch videos\n",
    "\n",
    "I believe 3Blue 1Brown has some of the best vides for visualizing linear algebra, so much so that I want you to watch them.  If you know the material, do it a 2x speed, or just watch enough to answer the questions below.\n",
    "\n",
    "For each of the following videos provide a few sentences describing the content of the video.\n",
    "\n",
    "### Linear combinations, span, and basis vectors | Chapter 2, Essence of linear algebra\n",
    "\n",
    "https://www.youtube.com/watch?v=k7RM-ot2NWY&list=PLZHQObOWTQDPD3MizzM2xVFitgF8hE_ab&index=2\n"
   ]
  },
  {
   "cell_type": "markdown",
   "id": "bfa10afb",
   "metadata": {},
   "source": [
    "SUMMARIZE HERE."
   ]
  },
  {
   "cell_type": "markdown",
   "id": "714932f0",
   "metadata": {},
   "source": [
    "\n",
    "### Linear transformations and matrices | Chapter 3\n",
    "\n",
    "https://www.youtube.com/watch?v=kYB8IZa5AuE&list=PLZHQObOWTQDPD3MizzM2xVFitgF8hE_ab&index=3\n",
    "\n"
   ]
  },
  {
   "cell_type": "markdown",
   "id": "73551670",
   "metadata": {},
   "source": [
    "SUMMARIZE HERE"
   ]
  },
  {
   "cell_type": "markdown",
   "id": "99772447",
   "metadata": {},
   "source": [
    "### Matrix multiplication as composition | Chapter 4, Essence of linear algebra\n",
    "\n",
    "https://www.youtube.com/watch?v=XkY2DOUCWMU&list=PLZHQObOWTQDPD3MizzM2xVFitgF8hE_ab&index=4\n",
    "\n"
   ]
  },
  {
   "cell_type": "markdown",
   "id": "fc929efe",
   "metadata": {},
   "source": [
    "SUMMARIZE HERE"
   ]
  },
  {
   "cell_type": "markdown",
   "id": "e4488149",
   "metadata": {},
   "source": [
    "### The determinant | Chapter 6, Essence of linear algebra\n",
    "\n",
    "https://www.youtube.com/watch?v=Ip3X9LOh2dk&list=PLZHQObOWTQDPD3MizzM2xVFitgF8hE_ab&index=6"
   ]
  },
  {
   "cell_type": "markdown",
   "id": "c247dd65",
   "metadata": {},
   "source": [
    "SUMMARIZE HERE"
   ]
  },
  {
   "cell_type": "markdown",
   "id": "e32e903a",
   "metadata": {},
   "source": [
    "### Inverse matrices, column space and null space | Chapter 7, Essence of linear algebra\n",
    "\n",
    "\n",
    "https://www.youtube.com/watch?v=uQhTuRlWMxw&list=PLZHQObOWTQDPD3MizzM2xVFitgF8hE_ab&index=7"
   ]
  },
  {
   "cell_type": "markdown",
   "id": "2f585295",
   "metadata": {},
   "source": [
    "SUMMARIZE HERE"
   ]
  },
  {
   "cell_type": "markdown",
   "id": "96fa0486",
   "metadata": {},
   "source": [
    "### Change of basis | Chapter 13, Essence of linear algebra\n",
    "\n",
    "https://www.youtube.com/watch?v=P2LTAUO1TdA&list=PLZHQObOWTQDPD3MizzM2xVFitgF8hE_ab&index=13"
   ]
  },
  {
   "cell_type": "markdown",
   "id": "e36529cb",
   "metadata": {},
   "source": [
    "SUMMARIZE HERE"
   ]
  },
  {
   "cell_type": "markdown",
   "id": "0ecc6958",
   "metadata": {},
   "source": [
    "### Eigenvectors and eigenvalues | Chapter 14, Essence of linear algebra\n",
    "\n",
    "https://www.youtube.com/watch?v=PFDu9oVAE-g&list=PLZHQObOWTQDPD3MizzM2xVFitgF8hE_ab&index=14"
   ]
  },
  {
   "cell_type": "markdown",
   "id": "99db8481",
   "metadata": {},
   "source": [
    "SUMMARIZE HERE"
   ]
  },
  {
   "cell_type": "markdown",
   "id": "72636980",
   "metadata": {},
   "source": [
    "## Part B. Basic Properties of Matrices"
   ]
  },
  {
   "cell_type": "markdown",
   "id": "aab6c706",
   "metadata": {},
   "source": [
    "1. **Transpose Properties**  \n",
    "Let  \n",
    "\n",
    "$$\n",
    "A = \\begin{bmatrix} 1 & 2 \\\\ 3 & 4 \\end{bmatrix}, \\quad \n",
    "B = \\begin{bmatrix} 0 & -1 \\\\ 1 & 0 \\end{bmatrix}.\n",
    "$$  \n",
    "\n",
    "Verify each of the following:"
   ]
  },
  {
   "cell_type": "markdown",
   "id": "edb25863",
   "metadata": {},
   "source": [
    "a) $ (A+B)^T = A^T + B^T $"
   ]
  },
  {
   "cell_type": "markdown",
   "id": "fee1b1d3",
   "metadata": {},
   "source": [
    "put answer here (or on scanned paper)."
   ]
  },
  {
   "cell_type": "markdown",
   "id": "9e226b26",
   "metadata": {},
   "source": [
    "b) $ (AB)^T = B^T A^T $"
   ]
  },
  {
   "cell_type": "markdown",
   "id": "e50ff186",
   "metadata": {},
   "source": [
    "put answer here (or on scanned paper)."
   ]
  },
  {
   "cell_type": "markdown",
   "id": "cd5d503a",
   "metadata": {},
   "source": [
    "c) $ (A^T)^T = A $"
   ]
  },
  {
   "cell_type": "markdown",
   "id": "ca89f27b",
   "metadata": {},
   "source": [
    "put answer here (or on scanned paper)."
   ]
  },
  {
   "cell_type": "markdown",
   "id": "a82c13ad",
   "metadata": {},
   "source": [
    "2. **Trace Identities**  \n",
    "For the same $A, B$, compute $\\mathrm{tr}(A)$, $\\mathrm{tr}(B)$, $\\mathrm{tr}(AB)$, and $\\mathrm{tr}(BA)$.  \n",
    "Show that $\\mathrm{tr}(AB) = \\mathrm{tr}(BA)$."
   ]
  },
  {
   "cell_type": "markdown",
   "id": "047cd82b",
   "metadata": {},
   "source": [
    "put answer here (or on scanned paper)."
   ]
  },
  {
   "cell_type": "markdown",
   "id": "efd9e5cd",
   "metadata": {},
   "source": [
    "3. **Inner Product**  \n",
    "Let $\\mathbf{x} = [1,2,3]^T$, $\\mathbf{y} = [4,0,-1]^T$.  \n",
    "a) Compute $\\mathbf{x}^T \\mathbf{y}$.  \n",
    "    "
   ]
  },
  {
   "cell_type": "markdown",
   "id": "df657e11",
   "metadata": {},
   "source": [
    "put answer here (or on scanned paper)"
   ]
  },
  {
   "cell_type": "markdown",
   "id": "7693223c",
   "metadata": {},
   "source": [
    "b) Interpret the inner product in terms of vector similarity.\n"
   ]
  },
  {
   "cell_type": "markdown",
   "id": "6492c02f",
   "metadata": {},
   "source": [
    "put answer here (or on scanned paper)"
   ]
  },
  {
   "cell_type": "markdown",
   "id": "fe711fed",
   "metadata": {},
   "source": [
    "\n",
    "4. **Outer Product**  \n",
    "Using the same vectors $\\mathbf{x}, \\mathbf{y}$:  \n"
   ]
  },
  {
   "cell_type": "markdown",
   "id": "52f1dea1",
   "metadata": {},
   "source": [
    "a) Compute $\\mathbf{x}\\mathbf{y}^T$.  \n"
   ]
  },
  {
   "cell_type": "markdown",
   "id": "73c4552c",
   "metadata": {},
   "source": [
    "put answer here (or on scanned paper)"
   ]
  },
  {
   "cell_type": "markdown",
   "id": "30cb033a",
   "metadata": {},
   "source": [
    "\n",
    "b) What is the shape of the resulting matrix?  \n"
   ]
  },
  {
   "cell_type": "markdown",
   "id": "b96aade3",
   "metadata": {},
   "source": [
    "put answer here (or on scanned paper)"
   ]
  },
  {
   "cell_type": "markdown",
   "id": "8474d0a8",
   "metadata": {},
   "source": [
    "c) Explain how the outer product differs conceptually from the inner product.\n"
   ]
  },
  {
   "cell_type": "markdown",
   "id": "ec3449d6",
   "metadata": {},
   "source": [
    "put answer here (or on scanned paper)"
   ]
  },
  {
   "cell_type": "markdown",
   "id": "3cd74d1b",
   "metadata": {},
   "source": [
    "5. **Hadamard Product**  \n",
    "    Let  \n",
    "    $$\n",
    "    U = \\begin{bmatrix} 1 & 2 \\\\ 3 & 4 \\end{bmatrix}, \\quad \n",
    "    V = \\begin{bmatrix} 5 & 6 \\\\ 7 & 8 \\end{bmatrix}.\n",
    "    $$\n"
   ]
  },
  {
   "cell_type": "markdown",
   "id": "02fe46e0",
   "metadata": {},
   "source": [
    "\n",
    "a) Compute the Hadamard product $U \\odot V$.\n",
    "    "
   ]
  },
  {
   "cell_type": "markdown",
   "id": "3d8d35b1",
   "metadata": {},
   "source": [
    "put answer here (or on scanned paper)"
   ]
  },
  {
   "cell_type": "markdown",
   "id": "59d8035a",
   "metadata": {},
   "source": [
    "  \n",
    "b) Compare this elementwise product to the matrix product $UV$.  \n"
   ]
  },
  {
   "cell_type": "markdown",
   "id": "681f9c9b",
   "metadata": {},
   "source": [
    "put answer here (or on scanned paper)"
   ]
  },
  {
   "cell_type": "markdown",
   "id": "e1bf9795",
   "metadata": {},
   "source": [
    "6. **Determinant and Inverse**"
   ]
  },
  {
   "cell_type": "markdown",
   "id": "67d90449",
   "metadata": {},
   "source": [
    "a) Compute $\\det(A)$."
   ]
  },
  {
   "cell_type": "markdown",
   "id": "b7bf531c",
   "metadata": {},
   "source": [
    "put answer here (or on scanned paper)"
   ]
  },
  {
   "cell_type": "markdown",
   "id": "519a8065",
   "metadata": {},
   "source": [
    "b) Determine if $A$ is invertible, and if so, find $A^{-1}$."
   ]
  },
  {
   "cell_type": "markdown",
   "id": "de548cf1",
   "metadata": {},
   "source": [
    "put answer here (or on scanned paper)"
   ]
  },
  {
   "cell_type": "markdown",
   "id": "7de3026f",
   "metadata": {},
   "source": [
    "c) Verify that $\\det(A^{-1}) = 1/\\det(A)$."
   ]
  },
  {
   "cell_type": "markdown",
   "id": "99c86ee5",
   "metadata": {},
   "source": [
    "put answer here (or on scanned paper)"
   ]
  },
  {
   "cell_type": "markdown",
   "id": "e8255842",
   "metadata": {},
   "source": [
    "## Part C. Linear Dependence and Span"
   ]
  },
  {
   "cell_type": "markdown",
   "id": "b27f8bff",
   "metadata": {},
   "source": [
    "7. Consider the vectors  \n",
    "$\\mathbf{v}_1 = [1,2,3]^T, \\\\ \\mathbf{v}_2 = [2,4,6]^T, \\\\ \\mathbf{v}_3 = [1,0,1]^T.$"
   ]
  },
  {
   "cell_type": "markdown",
   "id": "7385062e",
   "metadata": {},
   "source": [
    "a) Determine whether $\\{\\mathbf{v}_1, \\mathbf{v}_2, \\mathbf{v}_3\\}$ are linearly independent."
   ]
  },
  {
   "cell_type": "markdown",
   "id": "be74e460",
   "metadata": {},
   "source": [
    "put answer here (or on scanned paper)."
   ]
  },
  {
   "cell_type": "markdown",
   "id": "f5e6972f",
   "metadata": {},
   "source": [
    "b) Find a maximal independent subset of these vectors."
   ]
  },
  {
   "cell_type": "markdown",
   "id": "a8e2e96b",
   "metadata": {},
   "source": [
    "put answer here (or on scanned paper)."
   ]
  },
  {
   "cell_type": "markdown",
   "id": "ed2d7d45",
   "metadata": {},
   "source": [
    "c) Describe the span of this set in $\\mathbb{R}^3$."
   ]
  },
  {
   "cell_type": "markdown",
   "id": "5aa2d7eb",
   "metadata": {},
   "source": [
    "put answer here (or on scanned paper)."
   ]
  },
  {
   "cell_type": "markdown",
   "id": "7017eebe",
   "metadata": {},
   "source": [
    "8. Let  \n",
    "$$\n",
    "M = \\begin{bmatrix} \n",
    "1 & 2 & 3 \\\\ \n",
    "2 & 4 & 6 \\\\ \n",
    "1 & 0 & 1 \n",
    "\\end{bmatrix}.\n",
    "$$"
   ]
  },
  {
   "cell_type": "markdown",
   "id": "7e5a66fc",
   "metadata": {},
   "source": [
    "a) Find $\\mathrm{rank}(M)$."
   ]
  },
  {
   "cell_type": "markdown",
   "id": "9f1fe02c",
   "metadata": {},
   "source": [
    "put answer here (or on scanned paper)."
   ]
  },
  {
   "cell_type": "markdown",
   "id": "e6889bbe",
   "metadata": {},
   "source": [
    "b) Explain how the rank relates to the results from Problem 7."
   ]
  },
  {
   "cell_type": "markdown",
   "id": "29d632f4",
   "metadata": {},
   "source": [
    "put answer here (or on scanned paper)."
   ]
  },
  {
   "cell_type": "markdown",
   "id": "21261052",
   "metadata": {},
   "source": [
    "## Part D. Norms and Distances"
   ]
  },
  {
   "cell_type": "markdown",
   "id": "d83b11a0",
   "metadata": {},
   "source": [
    "9. Compute the following norms of $\\mathbf{x} = [3, -4]^T$:"
   ]
  },
  {
   "cell_type": "markdown",
   "id": "4853c876",
   "metadata": {},
   "source": [
    "a) $\\|\\mathbf{x}\\|_1 $\n"
   ]
  },
  {
   "cell_type": "code",
   "execution_count": null,
   "id": "a309bf4b",
   "metadata": {
    "vscode": {
     "languageId": "plaintext"
    }
   },
   "outputs": [],
   "source": [
    "put answer here (or on scanned paper)."
   ]
  },
  {
   "cell_type": "markdown",
   "id": "fe38ad2f",
   "metadata": {},
   "source": [
    "b) $ \\|\\mathbf{x}\\|_2 $"
   ]
  },
  {
   "cell_type": "markdown",
   "id": "eb184220",
   "metadata": {},
   "source": [
    "put answer here (or on scanned paper)."
   ]
  },
  {
   "cell_type": "markdown",
   "id": "fb786f2e",
   "metadata": {},
   "source": [
    "c) $ \\|\\mathbf{x}\\|_\\infty $"
   ]
  },
  {
   "cell_type": "markdown",
   "id": "35397d07",
   "metadata": {},
   "source": []
  },
  {
   "cell_type": "markdown",
   "id": "9ab7b649",
   "metadata": {},
   "source": [
    "put answer here (or on scanned paper)."
   ]
  },
  {
   "cell_type": "markdown",
   "id": "6e70e90d",
   "metadata": {},
   "source": [
    "10. Prove or verify numerically that for any vector \n",
    "$\\mathbf{x} \\in \\mathbb{R}^n$,  \n",
    "   $$\n",
    "   \\|\\mathbf{x}\\|_\\infty \\leq \\|\\mathbf{x}\\|_2 \\leq \\|\\mathbf{x}\\|_1.\n",
    "   $$  \n",
    "\n",
    "   Use $\\mathbf{x} = [3,-4]^T$ as an example.\n"
   ]
  },
  {
   "cell_type": "markdown",
   "id": "f581fa92",
   "metadata": {},
   "source": [
    "put answer here (or on scanned paper)."
   ]
  },
  {
   "cell_type": "markdown",
   "id": "d5d2351c",
   "metadata": {},
   "source": [
    "11. For vectors $\\mathbf{u} = [1,1]^T$ and $\\mathbf{v} = [2,0]^T$, compute:  \n",
    "   "
   ]
  },
  {
   "cell_type": "markdown",
   "id": "95cf659c",
   "metadata": {},
   "source": [
    "a) Euclidean distance $\\|\\mathbf{u} - \\mathbf{v}\\|_2$"
   ]
  },
  {
   "cell_type": "markdown",
   "id": "a3bbdeea",
   "metadata": {},
   "source": [
    "put answer here (or on scanned paper)."
   ]
  },
  {
   "cell_type": "markdown",
   "id": "bf997a88",
   "metadata": {},
   "source": [
    "b) Cosine similarity $\\frac{\\mathbf{u}^T \\mathbf{v}}{\\|\\mathbf{u}\\|_2 \\|\\mathbf{v}\\|_2}$."
   ]
  },
  {
   "cell_type": "markdown",
   "id": "784356eb",
   "metadata": {},
   "source": [
    "put answer here (or on scanned paper)."
   ]
  },
  {
   "cell_type": "markdown",
   "id": "c3026369",
   "metadata": {},
   "source": [
    "## Part E. Trace Properties\n",
    "12. **Linearity of Trace**\n",
    "Let\n",
    "$$\n",
    "C = \\begin{bmatrix} 1 & 2 \\\\ 0 & 1 \\end{bmatrix}, \\quad \n",
    "D = \\begin{bmatrix} 2 & 0 \\\\ 3 & 1 \\end{bmatrix}.\n",
    "$$\n",
    "\n",
    "a) $\\mathrm{tr}(C+D) = \\mathrm{tr}(C) + \\mathrm{tr}(D)$.\n"
   ]
  },
  {
   "cell_type": "markdown",
   "id": "3380c179",
   "metadata": {},
   "source": [
    "\n",
    "put answer here (or on scanned paper).\n"
   ]
  },
  {
   "cell_type": "markdown",
   "id": "b1b6bd56",
   "metadata": {},
   "source": [
    "b) $\\mathrm{tr}(\\alpha C) = \\alpha \\,\\mathrm{tr}(C)$ for scalar $\\alpha = 3$.\n"
   ]
  },
  {
   "cell_type": "markdown",
   "id": "ab2e8dae",
   "metadata": {},
   "source": [
    "put answer here (or on scanned paper).\n"
   ]
  },
  {
   "cell_type": "markdown",
   "id": "32bd64d5",
   "metadata": {},
   "source": [
    "13. **Cyclic Property of Trace**\n",
    "Show that for compatible matrices $X, Y$:\n",
    "$\\mathrm{tr}(XY) = \\mathrm{tr}(YX)$.\n",
    "Verify with explicit computation using\n",
    "$$\n",
    "X = \\begin{bmatrix} 1 & 2 \\\\ 0 & 1 \\end{bmatrix}, \\quad \n",
    "Y = \\begin{bmatrix} 0 & 1 \\\\ 1 & 0 \\end{bmatrix}.\n",
    "$$\n"
   ]
  },
  {
   "cell_type": "markdown",
   "id": "91303864",
   "metadata": {},
   "source": [
    "put answer here (or on scanned paper)."
   ]
  },
  {
   "cell_type": "markdown",
   "id": "6e79faaf",
   "metadata": {},
   "source": [
    "14. **Trace of Outer Product**\n",
    "\n",
    "Let $\\mathbf{a} = [1,2]^T$.\n",
    "Compute $\\mathrm{tr}(\\mathbf{a}\\mathbf{a}^T)$ and explain why this equals $\\|\\mathbf{a}\\|_2^2$.\n"
   ]
  },
  {
   "cell_type": "markdown",
   "id": "1bebb7c2",
   "metadata": {},
   "source": [
    "put answer here (or on scanned paper)."
   ]
  },
  {
   "cell_type": "markdown",
   "id": "b20aab59",
   "metadata": {},
   "source": [
    "## Part F. Eigenvalues and PSD\n",
    "\n",
    "15. **Eigenvalues and Eigenvectors**\n",
    "\n",
    "Let\n",
    "$$\n",
    "E = \\begin{bmatrix} 2 & 1 \\\\ 1 & 2 \\end{bmatrix}.\n",
    "$$\n",
    "\n",
    "a) Find the eigenvalues and eigenvectors of $E$.\n"
   ]
  },
  {
   "cell_type": "markdown",
   "id": "ac63f1d5",
   "metadata": {},
   "source": [
    "put answer here (or on scanned paper).\n"
   ]
  },
  {
   "cell_type": "markdown",
   "id": "1f3b84a6",
   "metadata": {},
   "source": [
    "b) Verify that $E$ is symmetric and explain why its eigenvalues are guaranteed to be real.\n"
   ]
  },
  {
   "cell_type": "markdown",
   "id": "08200ffb",
   "metadata": {},
   "source": [
    "put answer here (or on scanned paper).\n"
   ]
  },
  {
   "cell_type": "markdown",
   "id": "34e91424",
   "metadata": {},
   "source": [
    "16. **Positive Semidefinite Matrices**\n"
   ]
  },
  {
   "cell_type": "markdown",
   "id": "50b8cb7c",
   "metadata": {},
   "source": [
    "a) Show that $E$ from Problem 15 is positive semidefinite by checking $\\mathbf{x}^T E \\mathbf{x} \\geq 0$ for arbitrary $\\mathbf{x}$.\n"
   ]
  },
  {
   "cell_type": "markdown",
   "id": "a9dc6233",
   "metadata": {},
   "source": [
    "put answer here (or on scanned paper).\n"
   ]
  },
  {
   "cell_type": "markdown",
   "id": "4a3a1414",
   "metadata": {},
   "source": [
    "b) Why are PSD matrices important in optimization for machine learning?\n"
   ]
  },
  {
   "cell_type": "markdown",
   "id": "93f5eeda",
   "metadata": {},
   "source": [
    "(optional). Ignore this.  We haven't covered it yet."
   ]
  },
  {
   "cell_type": "markdown",
   "id": "50fe94c6",
   "metadata": {},
   "source": [
    "17. **Orthogonal Matrices**\n",
    "\n",
    "a) Show that\n",
    "$$\n",
    "Q = \\begin{bmatrix} 0 & 1 \\\\ -1 & 0 \\end{bmatrix}\n",
    "$$\n",
    "is an orthogonal matrix.\n"
   ]
  },
  {
   "cell_type": "markdown",
   "id": "d8278161",
   "metadata": {},
   "source": [
    "put answer here (or on scanned paper).\n"
   ]
  },
  {
   "cell_type": "markdown",
   "id": "740a6e0d",
   "metadata": {},
   "source": [
    "b) Explain what it means geometrically when a matrix is orthogonal.\n"
   ]
  },
  {
   "cell_type": "markdown",
   "id": "312f05b2",
   "metadata": {},
   "source": [
    "put answer here (or on scanned paper)."
   ]
  }
 ],
 "metadata": {
  "kernelspec": {
   "display_name": "Python 3 (ipykernel)",
   "language": "python",
   "name": "python3"
  },
  "language_info": {
   "codemirror_mode": {
    "name": "ipython",
    "version": 3
   },
   "file_extension": ".py",
   "mimetype": "text/x-python",
   "name": "python",
   "nbconvert_exporter": "python",
   "pygments_lexer": "ipython3",
   "version": "3.12.7"
  }
 },
 "nbformat": 4,
 "nbformat_minor": 5
}
