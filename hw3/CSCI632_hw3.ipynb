{
 "cells": [
  {
   "cell_type": "markdown",
   "id": "b4269600",
   "metadata": {},
   "source": [
    "# CSCI632 Homework 3: Probability\n",
    "\n",
    "### Instructions\n",
    "This assignment is designed to cover key probability concepts used throughout *Deep Learning* (Goodfellow et al., Ch. 3).\n",
    "Show all steps and justify each answer.   You do not need to use LaTeX for these answers.  \n",
    "\n",
    "\n",
    "## Deliverables\n",
    "- A jupyter notebook, scanned image, or PDF of your typed, LaTeX, or handwritten solutions.\n",
    "- For conceptual questions, write concise but clear explanations.\n",
    "- For computational problems, show all steps.\n"
   ]
  },
  {
   "cell_type": "markdown",
   "id": "8c72c024",
   "metadata": {
    "vscode": {
     "languageId": "html"
    }
   },
   "source": [
    "### Part A. Venn diagram problems — draw and reason\n",
    "\n",
    "For each problem below, draw a Venn diagram (label all regions) and answer the questions. \n",
    "Show any probability calculations and briefly justify your conclusion about \n",
    "independence / disjointness / subset relationships.\n",
    "\n",
    "1. Two events with partial overlap  \n",
    "    - Given: $P(A) = 0.4, P(B) = 0.5, P(A \\cap B) = 0.2.$  \n",
    "\n",
    "    (a) Draw the Venn diagram and label the three regions ($A$, $B$, $A \\cap B$). \n",
    "\n",
    "    (b) Compute P(A|B) and P(B|A). \n",
    "\n",
    "    (c) Are A and B independent? Are they disjoint?\n"
   ]
  },
  {
   "cell_type": "markdown",
   "id": "12d0bdb8",
   "metadata": {
    "vscode": {
     "languageId": "bat"
    }
   },
   "source": [
    "\n",
    "2. Two events that are disjoint  \n",
    "    - Given: $P(A) = 0.3, P(B) = 0.6, P(A \\cap B) = 0.$  \n",
    "\n",
    "    (a) Draw a Venn diagram consistent with these probabilities and label all regions.\n",
    "\n",
    "    (b) Are A and B independent? Explain why disjointness implies or does not imply independence.\n"
   ]
  },
  {
   "cell_type": "markdown",
   "id": "f695fda2",
   "metadata": {},
   "source": [
    "\n",
    "3. Two events with overlap\n",
    "    - Given: Sets $A$ and $B$ ovelap, $P(A) = 0.5, P(B) = 0.4, P(A \\cap B) = 0.3$\n",
    "\n",
    "    (a) Draw a Venn diagram consistent with these probability and label all regions.\n",
    "\n",
    "    (b) Are A and B independent?  Why? \n"
   ]
  },
  {
   "cell_type": "markdown",
   "id": "e5ab1dd4",
   "metadata": {},
   "source": [
    "\n",
    "4. Subset and overlapping events (three sets)  \n",
    "    - Given three events $A, B, C$ with: $A \\subset C$, $B$ overlaps $C$ \n",
    "      but is not a subset, and $A$ and $B$ are disjoint. \n",
    "      \n",
    "      $P(A) = 0.2, P(B) = 0.3, P(C) = 0.6, P(B \\cap C) = 0.1, A \\cap B = 0$.  \n",
    "\n",
    "    (a) Draw a three-set Venn diagram consistent with these relations and label all regions. \n",
    "    \n",
    "    (b) Compute $P(A \\cup B \\cup C)$.\n",
    "    \n",
    "    (c) Is any pair independent? Which pairs? Why?\n",
    "\n"
   ]
  },
  {
   "cell_type": "markdown",
   "id": "37a19951",
   "metadata": {},
   "source": [
    "\n",
    "5. Conditional independence scenario  \n",
    "    - Setup: Describe events $A$ and $B$ that are not independent marginally \n",
    "      but are independent conditional on event $C.$  \n",
    "\n",
    "    (a) Sketch Venn diagrams for the joint distribution marginally\n",
    "    and the partition induced by $C$.\n",
    "    \n",
    "    (b) Provide a small numeric example (choose probabilities) that\n",
    "    satisfies: \n",
    "    \n",
    "    $P(A \\cap B) \\ne P(A)P(B)$ but $P(A \\cap B | C) = P(A|C)P(B|C)$.\n",
    "    \n",
    "    (c) Explain why conditioning can create or remove independence.\n"
   ]
  },
  {
   "cell_type": "markdown",
   "id": "4988a1fd",
   "metadata": {},
   "source": [
    "\n",
    "6. From a standard 52-card deck, \n",
    "  let $A$ = \"card is red\", $B$ = \"card is a face card (J,Q,K)\", \n",
    "  $C$ = \"card is a heart\". \n",
    "      \n",
    "    (a) Draw Venn diagrams showing relationships between A, B, C (treat sets as colors and ranks). Label regions with counts or probabilities. \n",
    "    \n",
    "    (b) State which events are disjoint, which are subsets, and whether any pairs are independent."
   ]
  },
  {
   "cell_type": "markdown",
   "id": "5aa473c3",
   "metadata": {},
   "source": [
    "### Part B. Discrete Random Variables\n",
    "\n",
    "7. Basic conditional probability and independence  \n",
    "    - Given events A and B with P(A) = 0.45, P(B) = 0.30, and P(A ∩ B) = 0.135: \n",
    "\n",
    "      (a) Compute P(A|B) and P(B|A).  \n",
    "\n",
    "      (b) Are A and B independent? Justify your answer.\n",
    "\n",
    "8. Bayes' rule — medical test example  \n",
    "    - A disease has prevalence 1%. A diagnostic test has sensitivity 95% (P(test+ | disease))\n",
    "      and specificity 90% (P(test- | no disease)).  \n",
    "\n",
    "      (a) Compute P(disease | test+).  \n",
    "\n",
    "      (b) Compute P(no disease | test-).  \n",
    "\n",
    "      (c) Explain how prevalence affects the posterior probability.\n",
    "\n",
    "9. Chain rule and conditional probability with three events  \n",
    "    - Let $A, B, C$ be events with $P(A) = 0.6, P(B | A) = 0.5, P(B | A^c) = 0.2, \n",
    "      P(C | A \\cap B) = 0.9, P(C | A \\cap B^c) = 0.4, P(C | A^c \\cap B) = 0.7, P(C | A^c \\cap B^c) = 0.1.$  \n",
    "\n",
    "      (a) Use the chain rule and total probability to compute $P(A \\cap B \\cap C)$.  \n",
    "\n",
    "      (b) Compute $P(C)$ and $P(A | C)$.\n"
   ]
  },
  {
   "cell_type": "markdown",
   "id": "1be8b6d3",
   "metadata": {
    "vscode": {
     "languageId": "bat"
    }
   },
   "source": [
    "10. Draw a 5-card hand uniformly at random from a standard $52$-card deck (without replacement).\n",
    "\n",
    "    (a) Compute the probability the hand contains exactly two pairs (two distinct\n",
    "    ranks each appearing twice, plus a fifth card of a different rank). Give the\n",
    "    answer in terms of binomial coefficients (e.g., $n$ choose $k$).\n",
    "\n",
    "    (b) Compute the probability the hand contains at least one ace. Express\n",
    "    using complementary counting and combinatorial terms.\n",
    "\n",
    "    (c) Given the hand contains at least one ace, compute the conditional\n",
    "    probability that it contains exactly two aces."
   ]
  },
  {
   "cell_type": "markdown",
   "id": "13d23eda",
   "metadata": {
    "vscode": {
     "languageId": "tex"
    }
   },
   "source": [
    "11. Probability Mass Functions (PMF)\n",
    "\n",
    "    - Let $X$ be a discrete random variable with the following probability mass function (PMF):  \n",
    "\n",
    "    $$\n",
    "    P(X = x) =\n",
    "    \\begin{cases} \n",
    "    0.1 & \\text{if } x = 1, \\\\\n",
    "    0.2 & \\text{if } x = 2, \\\\\n",
    "    0.3 & \\text{if } x = 3, \\\\\n",
    "    0.4 & \\text{if } x = 4, \\\\\n",
    "    0 & \\text{otherwise.}\n",
    "    \\end{cases}\n",
    "    $$\n",
    "\n",
    "    (a) Verify that this is a valid PMF.  \n",
    "\n",
    "    (b) Compute $P(X \\leq 3)$.  \n",
    "\n",
    "    (c) Compute the expected value $\\mathbb{E}[X]$.  \n",
    "\n",
    "    (d) Compute the variance $\\text{Var}(X)$.  "
   ]
  },
  {
   "cell_type": "markdown",
   "id": "70ec7c4d",
   "metadata": {
    "vscode": {
     "languageId": "tex"
    }
   },
   "source": [
    "### Part C. Continuous random variables — expectation and variance\n",
    "\n",
    "For each problem below, show all integration steps and justify any changes of variables. Compute the expectation $\\mathbb{E}[X]$ and the variance $\\mathrm{Var}(X)$.\n",
    "\n",
    "12. Let $X\\sim\\mathrm{Uniform}(a,b)$ with $-\\infty<a<b<\\infty$.  \n",
    "    (a) Write the pdf $f_X(x)$ and verify it integrates to $1$.  \n",
    "    (b) Compute $\\mathbb{E}[X]$ and $\\mathrm{Var}(X)$ in terms of $a,b$.\n",
    "\n",
    "13. Let $X$ have pdf\n",
    "\n",
    "    $$\n",
    "    f_X(x)=\n",
    "    \\begin{cases}\n",
    "    kx^2, & 0\\le x\\le 1,\\\\[4pt]\n",
    "    0, & \\text{otherwise.}\n",
    "    \\end{cases}\n",
    "    $$\n",
    "    (a) Find the normalizing constant $k$.  \n",
    "    (b) Compute $\\mathbb{E}[X]$ and $\\mathrm{Var}(X)$.\n",
    "\n",
    "14. Let $X\\sim\\mathrm{Exponential}(\\lambda)$ with $\\lambda>0$, i.e. $f_X(x)=\\lambda e^{-\\lambda x}$ for $x\\ge0$.  \n",
    "    Compute $\\mathbb{E}[X]$ and $\\mathrm{Var}(X)$ (show the integrals).\n",
    "\n"
   ]
  },
  {
   "cell_type": "markdown",
   "id": "68b7ec53",
   "metadata": {},
   "source": [
    "### Part D. Functions often used in ML"
   ]
  },
  {
   "cell_type": "markdown",
   "id": "a34c94cc",
   "metadata": {},
   "source": [
    "15. Sigmoid Function\n",
    "\n",
    "  - The sigmoid function is often used in machine learning and statistics to model probabilities. It is defined as:\n",
    "\n",
    "    $$\n",
    "    \\sigma(x) = \\frac{1}{1 + e^{-x}}\n",
    "    $$\n",
    "\n",
    "    (a) Compute the value of $\\sigma(0)$ and interpret its meaning in terms of probability.\n",
    "\n",
    "    (b) Show that $\\sigma(-x) = 1 - \\sigma(x)$.\n",
    "    \n",
    "    (c) Plot the sigmoid function for $x \\in [-10, 10]$ and describe its key properties (e.g., range, asymptotes, etc.).\n"
   ]
  },
  {
   "cell_type": "markdown",
   "id": "99ed56db",
   "metadata": {},
   "source": [
    "16. Hyperbolic Tangent Function\n",
    "\n",
    "    - The hyperbolic tangent function, $\\tanh(x)$, is another function commonly used in\n",
    "      machine learning. It is defined as:\n",
    "\n",
    "        $$\n",
    "        \\tanh(x) = \\frac{e^x - e^{-x}}{e^x + e^{-x}}\n",
    "        $$\n",
    "\n",
    "        (a) Compute the value of $\\tanh(0)$.\n",
    "\n",
    "        (b) Show that $\\tanh(-x) = -\\tanh(x)$.\n",
    "\n",
    "        (c) Plot the $\\tanh(x)$ function for $x \\in [-10, 10]$ and describe its key properties (e.g., range, asymptotes, symmetry, etc.).\n",
    "\n",
    "        (d) Compare $\\tanh(x)$ with the sigmoid function $\\sigma(x)$ in terms of output range."
   ]
  }
 ],
 "metadata": {
  "kernelspec": {
   "display_name": "base",
   "language": "python",
   "name": "python3"
  },
  "language_info": {
   "codemirror_mode": {
    "name": "ipython",
    "version": 3
   },
   "file_extension": ".py",
   "mimetype": "text/x-python",
   "name": "python",
   "nbconvert_exporter": "python",
   "pygments_lexer": "ipython3",
   "version": "3.12.7"
  }
 },
 "nbformat": 4,
 "nbformat_minor": 5
}
