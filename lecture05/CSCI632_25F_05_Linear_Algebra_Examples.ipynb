{
 "cells": [
  {
   "cell_type": "markdown",
   "id": "face5a0f-e966-4f12-8928-ff1b08c067db",
   "metadata": {},
   "source": [
    "## Introducing Jupyter, LaTeX, Markdown, Python, Numpy, and Linear Algebra\n",
    "\n",
    "We will be using Google Colab and Jupyter Notebooks extensively within this course.\n",
    "\n",
    "Colab extends Jupyter Notebooks.  It derives from the same codebase.\n",
    "\n"
   ]
  },
  {
   "cell_type": "markdown",
   "id": "c4bb65ad-8b2d-4844-b66f-2e9654f66354",
   "metadata": {},
   "source": [
    "## Notation\n",
    "\n",
    "\n",
    "Example              | Meaning\n",
    "---------------------|----------------------------------------------\n",
    "$a$                  |  scalar (integer or real number)\n",
    "$\\mathbf{a}$         |  vector\n",
    "$A$                  |  matrix\n",
    "$A$                  |  tensor\n",
    "$\\mathbf{e}^{(i)}$   |  standard basis vector (i.e., one-hot vector)\n",
    "$A^T$                |  tranpose of matrix $\\mathbf{A}$\n",
    "$A_{i,j}$            |  element at $i^{th}$ row and $j^{th}$ column\n",
    "\n"
   ]
  },
  {
   "cell_type": "markdown",
   "id": "8c966529-ad49-46de-a2e8-9ee754e5e604",
   "metadata": {},
   "source": [
    "## Vectors, numpy arrays, and lists in Python.\n",
    "\n",
    "A vector can be represented as either a list or a numpy array, but the differences are \n",
    "significant both in terms of run time and memory usage."
   ]
  },
  {
   "cell_type": "code",
   "execution_count": 6,
   "id": "9703d3a3-7de8-493b-b21d-2123d4af6c71",
   "metadata": {},
   "outputs": [
    {
     "name": "stdout",
     "output_type": "stream",
     "text": [
      "[1 2 4]\n"
     ]
    }
   ],
   "source": [
    "# Vectors vs. lists in Python\n",
    "\n",
    "# A list is represented within Python as a dynamic array.\n",
    "# Here a list is used to represent a the vector (1,2,4).\n",
    "a = [1,2,4]\n",
    "\n",
    "# A list can be used to represent a vector, but a Python list is a complicated\n",
    "# data structure that can contain objects with different types.  All objects\n",
    "# in the list are not stored directly in the list but rather the list contains\n",
    "# references.  The dominant implementation of Python is CPython.  The language\n",
    "# is implemented in C.  Each reference a list in CPython is a C pointer PyObject*.\n",
    "# Numpy stores numbers directly into the array (see lecture 2 slides).\n",
    "# As such operations on Python lists require far more dereferencing than \n",
    "# a numpy array.\n",
    "a_np = np.array([1,2,4], dtype='int32')   # this array uses 32-bit integers.\n",
    "print(a_np)\n"
   ]
  },
  {
   "cell_type": "code",
   "execution_count": null,
   "id": "fe26f777",
   "metadata": {},
   "outputs": [],
   "source": []
  },
  {
   "cell_type": "markdown",
   "id": "680810c7-9fd5-4638-9b21-05463a63df64",
   "metadata": {},
   "source": [
    "## Numpy type coercion\n",
    "\n",
    "Python does some weird things.  It coerces types without telling you.  Numpy does the same thing.\n",
    "Even though numpy stores all objects of the same type, it will cast floating points to integers\n",
    "or integers to floating points depending on the context.   If you add a floating point number\n",
    "to a numpy array of integers, it creates a new array that is of type floating point."
   ]
  },
  {
   "cell_type": "code",
   "execution_count": 8,
   "id": "dfe25c70-08f8-4373-93af-0b21df381d21",
   "metadata": {},
   "outputs": [
    {
     "name": "stdout",
     "output_type": "stream",
     "text": [
      "vector1 translated by 1.5 in x and y is translated_vector1 = [3.5 4.5]\n",
      "vector1 is unchanged [2 3] and still has type int64\n",
      "translated_vector1 has type float64\n"
     ]
    }
   ],
   "source": [
    "translated_vector1 = vector1 + 1.5\n",
    "print(f\"vector1 translated by 1.5 in x and y is translated_vector1 = {translated_vector1}\")\n",
    "print(f\"vector1 is unchanged {vector1} and still has type {vector1.dtype}\")\n",
    "print(f\"translated_vector1 has type {translated_vector1.dtype}\")"
   ]
  },
  {
   "cell_type": "markdown",
   "id": "0c3ef9ef-a428-465e-b928-cbd6e0bbf587",
   "metadata": {},
   "source": [
    "The situation is weirder when we try to modify a vector in place when the vector starts\n",
    "as an integer and we add a floating point value."
   ]
  },
  {
   "cell_type": "code",
   "execution_count": 9,
   "id": "a1e02429-c0f4-43ab-9e0b-62dde9f4e363",
   "metadata": {},
   "outputs": [
    {
     "data": {
      "text/plain": [
       "array([1, 6])"
      ]
     },
     "execution_count": 9,
     "metadata": {},
     "output_type": "execute_result"
    }
   ],
   "source": [
    "v = np.array([1,6], dtype='int64')\n",
    "v[0] = 1.3\n",
    "v         # jupyter outputs the result of the evaluation of the last line in the cell unless it is None."
   ]
  },
  {
   "cell_type": "code",
   "execution_count": 10,
   "id": "a38298bf-ba40-410c-a083-5cb1fe0ceef3",
   "metadata": {},
   "outputs": [
    {
     "name": "stdout",
     "output_type": "stream",
     "text": [
      "[2 6]\n"
     ]
    }
   ],
   "source": [
    "v[0] += 1\n",
    "print(v)"
   ]
  },
  {
   "cell_type": "code",
   "execution_count": 11,
   "id": "be262c49-5b99-45b1-8e73-f2ab5a9fd03c",
   "metadata": {},
   "outputs": [
    {
     "name": "stdout",
     "output_type": "stream",
     "text": [
      "[4 6]\n"
     ]
    }
   ],
   "source": [
    "v[0] += 2.999999\n",
    "print(v)"
   ]
  },
  {
   "cell_type": "code",
   "execution_count": 12,
   "id": "eb17ebbb-beb2-4de7-8274-b4fb87c07d5f",
   "metadata": {},
   "outputs": [
    {
     "name": "stdout",
     "output_type": "stream",
     "text": [
      "[5 6]\n"
     ]
    }
   ],
   "source": [
    "# What causes this?\n",
    "v[0] = 2\n",
    "v[0] += 2.99999999999999999999\n",
    "print(v)"
   ]
  },
  {
   "cell_type": "markdown",
   "id": "5c8d72ce-19c1-4dfa-b5f3-7a2e4f665f3d",
   "metadata": {},
   "source": [
    "## Plotting vectors"
   ]
  },
  {
   "cell_type": "code",
   "execution_count": 13,
   "id": "2d9ae5eb-8419-4de2-9d24-6b5929032511",
   "metadata": {},
   "outputs": [
    {
     "data": {
      "image/png": "[encoded data removed]",
      "text/plain": [
       "<Figure size 640x480 with 1 Axes>"
      ]
     },
     "metadata": {},
     "output_type": "display_data"
    }
   ],
   "source": [
    "import matplotlib.pyplot as plt\n",
    "\n",
    "# Create a figure and an axes.\n",
    "fig, ax = plt.subplots()\n",
    "\n",
    "# Starting point of the vectors\n",
    "origin = np.array([0, 0])\n",
    "\n",
    "# Plot a vector without using numpy arrays.\n",
    "ax.quiver(0,0, -3, -1, color='g', scale=1, scale_units='xy', angles='xy')\n",
    "\n",
    "# Plotting the vector1.  quiver draws an arrow from the origin\n",
    "# Familar with the \"asterisk\" operator in Python?\n",
    "#\n",
    "# It unpacks the array causing each element in the passed array to be passed as its\n",
    "# own argument.\n",
    "ax.quiver(*origin, *vector1, color='r', scale=1, scale_units='xy', angles='xy')\n",
    "\n",
    "# The line above is equivalent to\n",
    "# ax.quiver(0, 0, vector1[0], vector1[1], color='r', scale=1, scale_units='xy', angles='xy')\n",
    "\n",
    "# Plotting the vector2\n",
    "ax.quiver(*origin, *vector2, color='b', scale=1, scale_units='xy', angles='xy')\n",
    "\n",
    "# Setting the aspect of the plot to be equal, to maintain the scale of the vectors\n",
    "ax.set_aspect('equal')\n",
    "\n",
    "ax.set_xlabel('X axis')\n",
    "ax.set_ylabel('Y axis')\n",
    "\n",
    "# Set limits of the graph.\n",
    "plt.xlim(-5, 5)\n",
    "plt.ylim(-5, 5)\n",
    "\n",
    "# Adding grid\n",
    "plt.grid(True)\n",
    "\n",
    "# Show the plot\n",
    "plt.show()"
   ]
  },
  {
   "cell_type": "markdown",
   "id": "1e315625-c036-4bbe-8a49-178258eec280",
   "metadata": {},
   "source": [
    "## Matrices in LaTeX\n",
    "\n",
    "Rendering a matrix using LaTeX uses the same `bmatrix` environment but \n",
    "using `&` to separate each of the column elements.\n",
    "\n",
    "`\n",
    "$$\n",
    "\\begin{bmatrix}\n",
    "5 & 3 \\\\\n",
    "2 & 4\n",
    "\\end{bmatrix}\n",
    "$$\n",
    "`\n",
    "\n",
    "appears as\n",
    "\n",
    "$$\n",
    "\\begin{bmatrix}\n",
    "5 & 3 \\\\\n",
    "2 & 4\n",
    "\\end{bmatrix}\n",
    "$$"
   ]
  },
  {
   "cell_type": "markdown",
   "id": "ce4c137a-cbea-4dd8-bdcb-1fd3e35fba70",
   "metadata": {},
   "source": [
    "## Matrices in Python.  \n",
    "\n",
    "I would use numpy to represent matrices as we did for vectors, and for the\n",
    "same reasons."
   ]
  },
  {
   "cell_type": "code",
   "execution_count": 14,
   "id": "9b6d07ec-c397-45b6-967f-4ff9ffddc975",
   "metadata": {},
   "outputs": [
    {
     "name": "stdout",
     "output_type": "stream",
     "text": [
      "[[5 3]\n",
      " [2 4]]\n"
     ]
    }
   ],
   "source": [
    "matrix = np.array([[5, 3],\n",
    "                   [2, 4]])\n",
    "print(matrix)"
   ]
  },
  {
   "cell_type": "code",
   "execution_count": 15,
   "id": "21c88860-3182-4c3c-993e-0c5a6e6348d0",
   "metadata": {},
   "outputs": [
    {
     "data": {
      "text/latex": [
       "$\\displaystyle \\begin{bmatrix}5 & 3 \\\\2 & 4 \\\\\\end{bmatrix}$"
      ],
      "text/plain": [
       "<IPython.core.display.Math object>"
      ]
     },
     "metadata": {},
     "output_type": "display_data"
    }
   ],
   "source": [
    "# I can represent the matrix above as latex, but it is a bit clunky.\n",
    "\n",
    "from IPython.display import display, Math\n",
    "\n",
    "# Converts a numpy array to a LaTeX matrix\n",
    "def numpy_to_latex_matrix(matrix):\n",
    "    latex_str = r'\\begin{bmatrix}'\n",
    "    for row in matrix:\n",
    "        latex_str += ' & '.join(map(str, row)) + r' \\\\'\n",
    "    latex_str += r'\\end{bmatrix}'\n",
    "    return latex_str\n",
    "\n",
    "def print_matrix(matrix):\n",
    "    display(Math(numpy_to_latex_matrix(matrix)))\n",
    "\n",
    "print_matrix(matrix)\n"
   ]
  },
  {
   "cell_type": "code",
   "execution_count": 16,
   "id": "d8b07fb2-dad3-4cef-9049-c9b7d17b5784",
   "metadata": {},
   "outputs": [],
   "source": [
    "# indexing an element in a numpy representation of a matrix."
   ]
  },
  {
   "cell_type": "code",
   "execution_count": 17,
   "id": "06a16b0d-9d0d-45eb-b257-3a6cb84f72ee",
   "metadata": {},
   "outputs": [
    {
     "data": {
      "text/plain": [
       "2"
      ]
     },
     "execution_count": 17,
     "metadata": {},
     "output_type": "execute_result"
    }
   ],
   "source": [
    "matrix[1][0]"
   ]
  },
  {
   "cell_type": "markdown",
   "id": "5884a2ec-3ec8-416c-bcc0-bc313481c348",
   "metadata": {},
   "source": [
    "## Tensors\n",
    "\n",
    "A tensor is a matrix with any number of dimensions.\n",
    "    \n",
    "A matrix is a 2 dimensional tensor.  \n",
    "\n",
    "A vector is a 1 dimensional tensor.\n",
    "\n",
    "A scalar is a 0 dimensional tensor.\n",
    "\n",
    "When a tensor has three dimensions, we would represent indexing a particular element using the following:\n",
    "\n",
    "$$\n",
    "\\mathbf{A}_{i,j,k}\n",
    "$$\n",
    "\n"
   ]
  },
  {
   "attachments": {},
   "cell_type": "markdown",
   "id": "ec22bde4-0cd5-4ee1-acd2-d7559636700e",
   "metadata": {},
   "source": [
    "## Tensors in Machine Learning\n",
    "\n",
    "Tensors are frequently used in machine learning.  The weights within a neural network are\n",
    "often represented as a tensor.  \n",
    "\n",
    "When applying machine learning to image processing, the inputs to the machine learning\n",
    "algorithm are often images.\n",
    "\n",
    "Color images often break the colors into separate channels.   For example\n",
    "an RGB image has three color channels.   These channels can be laid out in memory\n",
    "as separate planes wherein each plane corresponds to single color.  If we have a 1024x768 RGB\n",
    "image, each plane is a 1024x768 matrix with 1 element for each pixel.  The three planes\n",
    "together form a 3-d tensor.\n"
   ]
  },
  {
   "attachments": {
    "d23b02ba-ffd9-4a42-95ea-6dbcf3d6f921.png": {
     "image/png": "[encoded data removed]"
    }
   },
   "cell_type": "markdown",
   "id": "98a2c388-c252-4694-9c2e-d6143061d97f",
   "metadata": {},
   "source": [
    "A 3d tensor RGB image ![image.png](attachment:d23b02ba-ffd9-4a42-95ea-6dbcf3d6f921.png)"
   ]
  },
  {
   "cell_type": "markdown",
   "id": "ca03029b-59f3-4dfa-a142-d1e8f675754e",
   "metadata": {},
   "source": [
    "# Video as a tensor\n",
    "\n",
    "When we apply machine learning in the context of video processing, we may think of the\n",
    "video as a tensor.\n",
    "\n",
    "A video can be considered a series of frames (i.e., images).  A sequence of color images can be\n",
    "represented as a 4-d tensor."
   ]
  },
  {
   "cell_type": "markdown",
   "id": "774cda56-1d1a-426c-adbb-db45465d3cb9",
   "metadata": {},
   "source": [
    "## Operations on matrices\n",
    "\n",
    "As with scalars and vectors, we can add or multiply matrices, but matrices add some complications.\n",
    "Division is no longer straightforward, and multiplication is no longer commutative.  We also have \n",
    "additional operators that make little sense for scalars or vectors, e.g., transpose.\n",
    "\n",
    "Numpy implements many matrix operations including transpose."
   ]
  },
  {
   "cell_type": "code",
   "execution_count": 18,
   "id": "9c40af3f-e21c-4cbf-887e-613afbd80221",
   "metadata": {},
   "outputs": [
    {
     "name": "stdout",
     "output_type": "stream",
     "text": [
      "Original:\n"
     ]
    },
    {
     "data": {
      "text/latex": [
       "$\\displaystyle \\begin{bmatrix}7 & 8 & 1 \\\\5 & 6 & -1 \\\\2 & 3 & 4 \\\\\\end{bmatrix}$"
      ],
      "text/plain": [
       "<IPython.core.display.Math object>"
      ]
     },
     "metadata": {},
     "output_type": "display_data"
    },
    {
     "name": "stdout",
     "output_type": "stream",
     "text": [
      "Transposed using .T:\n"
     ]
    },
    {
     "data": {
      "text/latex": [
       "$\\displaystyle \\begin{bmatrix}7 & 5 & 2 \\\\8 & 6 & 3 \\\\1 & -1 & 4 \\\\\\end{bmatrix}$"
      ],
      "text/plain": [
       "<IPython.core.display.Math object>"
      ]
     },
     "metadata": {},
     "output_type": "display_data"
    },
    {
     "name": "stdout",
     "output_type": "stream",
     "text": [
      "Transposed using transpose():\n"
     ]
    },
    {
     "data": {
      "text/latex": [
       "$\\displaystyle \\begin{bmatrix}7 & 5 & 2 \\\\8 & 6 & 3 \\\\1 & -1 & 4 \\\\\\end{bmatrix}$"
      ],
      "text/plain": [
       "<IPython.core.display.Math object>"
      ]
     },
     "metadata": {},
     "output_type": "display_data"
    }
   ],
   "source": [
    "import numpy as np\n",
    "\n",
    "matrix = np.array([[7, 8, 1],\n",
    "                   [5, 6, -1],\n",
    "                   [2, 3, 4]])\n",
    "print(\"Original:\")\n",
    "print_matrix(matrix)\n",
    "\n",
    "# Transpose the matrix using .T\n",
    "transposed = matrix.T\n",
    "print(\"Transposed using .T:\")\n",
    "\n",
    "print_matrix(transposed)\n",
    "\n",
    "# Transpose the matrix using transpose() function\n",
    "transposed2 = np.transpose(matrix)\n",
    "print(\"Transposed using transpose():\")\n",
    "print_matrix(transposed2)"
   ]
  },
  {
   "cell_type": "code",
   "execution_count": 19,
   "id": "aceb1507-83a2-44ed-80a2-e001dba373ba",
   "metadata": {},
   "outputs": [
    {
     "data": {
      "text/latex": [
       "$\\displaystyle \\begin{bmatrix}6 & 10 & 6 \\\\2 & 7 & 7 \\\\-5 & 6 & 13 \\\\\\end{bmatrix}$"
      ],
      "text/plain": [
       "<IPython.core.display.Math object>"
      ]
     },
     "metadata": {},
     "output_type": "display_data"
    }
   ],
   "source": [
    "# adding two matrices\n",
    "ma = np.array([[7, 8, 1],\n",
    "               [5, 6, -1],\n",
    "               [2, 3, 4]])\n",
    "mb = np.array([[-1, 2, 5],\n",
    "               [-3, 1, 8],\n",
    "               [-7, 3, 9]])\n",
    "\n",
    "print_matrix(ma+mb)"
   ]
  },
  {
   "cell_type": "code",
   "execution_count": 20,
   "id": "04e6b461-7ad7-4f35-ad8e-4cadcc08c610",
   "metadata": {},
   "outputs": [],
   "source": [
    "# adding two matrices of differing size generates a ValueError.\n",
    "ma = np.array([[7, 8, 1],\n",
    "               [5, 6, -1],\n",
    "               [2, 3, 4]])\n",
    "mb = np.array([[-1, 2],\n",
    "               [-3, 1],\n",
    "               [-7, 3]])\n",
    "# print_matrix(ma+mb)  # uncomment to get a ValueError."
   ]
  },
  {
   "cell_type": "code",
   "execution_count": 21,
   "id": "46d06820-ff77-440b-bc09-97770d149a38",
   "metadata": {},
   "outputs": [
    {
     "data": {
      "text/plain": [
       "[1, 2, 3, 4, 5, 6]"
      ]
     },
     "execution_count": 21,
     "metadata": {},
     "output_type": "execute_result"
    }
   ],
   "source": [
    "# Note: The plus operator has a different meaning for Python lists.  It performs\n",
    "# concatenation rather than matrix addition.\n",
    "[1,2,3] + [4,5,6]"
   ]
  },
  {
   "cell_type": "code",
   "execution_count": 22,
   "id": "2ed239e8-5572-43da-9ccf-db197fe9ca31",
   "metadata": {},
   "outputs": [
    {
     "data": {
      "text/plain": [
       "[[7, 8, 1], [5, 6, -1], [2, 3, 4], [-1, 2, 5], [-3, 1, 8], [-7, 3, 9]]"
      ]
     },
     "execution_count": 22,
     "metadata": {},
     "output_type": "execute_result"
    }
   ],
   "source": [
    "[[7, 8, 1], [5, 6, -1], [2, 3, 4]] + [[-1, 2, 5], [-3, 1, 8], [-7, 3, 9]]"
   ]
  },
  {
   "cell_type": "code",
   "execution_count": 23,
   "id": "02ac35e9-3750-4e43-ab34-0d9aa578a7be",
   "metadata": {},
   "outputs": [
    {
     "data": {
      "text/latex": [
       "$\\displaystyle \\begin{bmatrix}15 & 1 \\\\41 & 3 \\\\\\end{bmatrix}$"
      ],
      "text/plain": [
       "<IPython.core.display.Math object>"
      ]
     },
     "metadata": {},
     "output_type": "display_data"
    }
   ],
   "source": [
    "# Matrix multiplication\n",
    "\n",
    "ma = np.array([[1, 2],\n",
    "               [3, 5]])\n",
    "mb = np.array([[7, 1],\n",
    "               [4, 0]])\n",
    "mc = ma @ mb\n",
    "\n",
    "print_matrix(mc)"
   ]
  },
  {
   "cell_type": "code",
   "execution_count": 24,
   "id": "6d8bbe95-f7dc-45de-8d85-f12de0a0835e",
   "metadata": {},
   "outputs": [
    {
     "data": {
      "text/latex": [
       "$\\displaystyle \\begin{bmatrix}10 & 19 \\\\4 & 8 \\\\\\end{bmatrix}$"
      ],
      "text/plain": [
       "<IPython.core.display.Math object>"
      ]
     },
     "metadata": {},
     "output_type": "display_data"
    }
   ],
   "source": [
    "mc = mb @ ma\n",
    "print_matrix(mc)"
   ]
  },
  {
   "cell_type": "code",
   "execution_count": 25,
   "id": "b704570f-a368-420f-976b-2384570a0d24",
   "metadata": {},
   "outputs": [],
   "source": [
    "mc = (mb.T @ ma.T).T"
   ]
  },
  {
   "cell_type": "code",
   "execution_count": 26,
   "id": "6b193706-3bb0-4fa9-8d9a-403a86e54668",
   "metadata": {},
   "outputs": [
    {
     "data": {
      "text/latex": [
       "$\\displaystyle \\begin{bmatrix}15 & 1 \\\\41 & 3 \\\\\\end{bmatrix}$"
      ],
      "text/plain": [
       "<IPython.core.display.Math object>"
      ]
     },
     "metadata": {},
     "output_type": "display_data"
    }
   ],
   "source": [
    "print_matrix(mc)"
   ]
  }
 ],
 "metadata": {
  "kernelspec": {
   "display_name": "Python 3 (ipykernel)",
   "language": "python",
   "name": "python3"
  },
  "language_info": {
   "codemirror_mode": {
    "name": "ipython",
    "version": 3
   },
   "file_extension": ".py",
   "mimetype": "text/x-python",
   "name": "python",
   "nbconvert_exporter": "python",
   "pygments_lexer": "ipython3",
   "version": "3.11.7"
  }
 },
 "nbformat": 4,
 "nbformat_minor": 5
}
